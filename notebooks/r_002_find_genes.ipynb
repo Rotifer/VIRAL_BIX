{
 "cells": [
  {
   "cell_type": "code",
   "execution_count": null,
   "id": "6c513ad0-237f-4c99-9a44-a6dcef49310a",
   "metadata": {},
   "outputs": [],
   "source": [
    "library(genbankr)\n"
   ]
  }
 ],
 "metadata": {
  "kernelspec": {
   "display_name": "R",
   "language": "R",
   "name": "ir"
  },
  "language_info": {
   "codemirror_mode": "r",
   "file_extension": ".r",
   "mimetype": "text/x-r-source",
   "name": "R",
   "pygments_lexer": "r",
   "version": "4.2.1"
  }
 },
 "nbformat": 4,
 "nbformat_minor": 5
}
