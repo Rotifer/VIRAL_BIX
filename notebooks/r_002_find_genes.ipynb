{
 "cells": [
  {
   "cell_type": "code",
   "execution_count": 5,
   "id": "6c513ad0-237f-4c99-9a44-a6dcef49310a",
   "metadata": {},
   "outputs": [
    {
     "name": "stderr",
     "output_type": "stream",
     "text": [
      "── \u001b[1mAttaching packages\u001b[22m ─────────────────────────────────────── tidyverse 1.3.2 ──\n",
      "\u001b[32m✔\u001b[39m \u001b[34mggplot2\u001b[39m 3.3.6     \u001b[32m✔\u001b[39m \u001b[34mpurrr  \u001b[39m 0.3.4\n",
      "\u001b[32m✔\u001b[39m \u001b[34mtibble \u001b[39m 3.1.7     \u001b[32m✔\u001b[39m \u001b[34mdplyr  \u001b[39m 1.0.9\n",
      "\u001b[32m✔\u001b[39m \u001b[34mtidyr  \u001b[39m 1.2.0     \u001b[32m✔\u001b[39m \u001b[34mstringr\u001b[39m 1.4.0\n",
      "\u001b[32m✔\u001b[39m \u001b[34mreadr  \u001b[39m 2.1.2     \u001b[32m✔\u001b[39m \u001b[34mforcats\u001b[39m 0.5.1\n",
      "── \u001b[1mConflicts\u001b[22m ────────────────────────────────────────── tidyverse_conflicts() ──\n",
      "\u001b[31m✖\u001b[39m \u001b[34mdplyr\u001b[39m::\u001b[32mfilter()\u001b[39m masks \u001b[34mstats\u001b[39m::filter()\n",
      "\u001b[31m✖\u001b[39m \u001b[34mdplyr\u001b[39m::\u001b[32mlag()\u001b[39m    masks \u001b[34mstats\u001b[39m::lag()\n"
     ]
    }
   ],
   "source": [
    "library(genbankr)\n",
    "library(tidyverse)\n",
    "gb_entries_filepath <- file.path(Sys.getenv(\"HOME\"), \"VIRAL_BIX\", \"data\", \"sars_genomes.gb\")\n"
   ]
  },
  {
   "cell_type": "code",
   "execution_count": 6,
   "id": "de30305c-66d2-4f94-8250-5b149d33b557",
   "metadata": {},
   "outputs": [],
   "source": [
    "library(tidyverse)"
   ]
  },
  {
   "cell_type": "code",
   "execution_count": 22,
   "id": "50bbe82e-639a-4fef-ade9-091feb495b00",
   "metadata": {},
   "outputs": [],
   "source": [
    "library(tidyverse)\n",
    "multiple_gb_entries <- function(gb_entries_filepath) {\n",
    "    txt <- read_file(gb_entries_filepath)\n",
    "    txt.split <- txt %>%\n",
    "      str_split(\"\\n//\\n\") %>%\n",
    "        unlist\n",
    "}"
   ]
  },
  {
   "cell_type": "code",
   "execution_count": 23,
   "id": "9db42c4f-a1dc-4cc4-aab8-09fa15208de9",
   "metadata": {},
   "outputs": [],
   "source": [
    "gb_entries <- multiple_gb_entries(gb_entries_filepath)"
   ]
  },
  {
   "cell_type": "code",
   "execution_count": 24,
   "id": "0c098f60-3082-4f78-b1e4-1f3b2a19806e",
   "metadata": {},
   "outputs": [
    {
     "name": "stdout",
     "output_type": "stream",
     "text": [
      "[1] 61968\n"
     ]
    },
    {
     "name": "stderr",
     "output_type": "stream",
     "text": [
      "genes not available for all CDS ranges, using internal grouping ids\n",
      "\n",
      "No exons read from genbank file. Assuming sections of CDS are full exons\n",
      "\n",
      "No transcript features (mRNA) found, using spans of CDSs\n",
      "\n"
     ]
    },
    {
     "name": "stdout",
     "output_type": "stream",
     "text": [
      "[1] 38767\n"
     ]
    },
    {
     "name": "stderr",
     "output_type": "stream",
     "text": [
      "Warning message in split.default(text, fldnames):\n",
      "“data length is not a multiple of split variable”\n",
      "Warning message in make_feat_gr(str = rngstr, chr = chr, ats = c(type = type, attrs), :\n",
      "“NAs introduced by coercion”\n"
     ]
    },
    {
     "ename": "ERROR",
     "evalue": "Error in switch(seqtype, bp = DNAString(chars), aa = AAString(chars), : EXPR must be a length 1 vector\n",
     "output_type": "error",
     "traceback": [
      "Error in switch(seqtype, bp = DNAString(chars), aa = AAString(chars), : EXPR must be a length 1 vector\nTraceback:\n",
      "1. readGenBank(text = gb_entry)",
      "2. parseGenBank(text = text, partial = partial, verbose = verbose, \n .     ret.seq = TRUE)",
      "3. readOrigin(spl[[\"ORIGIN\"]], seqtype = seqtype)"
     ]
    }
   ],
   "source": [
    "\n",
    "for(gb_entry in gb_entries) {\n",
    "    print(nchar(gb_entry))\n",
    "   gb <- readGenBank(text=gb_entry)\n",
    "}"
   ]
  },
  {
   "cell_type": "code",
   "execution_count": null,
   "id": "7c599e6a-1ca6-4e5d-98ad-2751dee548fc",
   "metadata": {},
   "outputs": [],
   "source": []
  }
 ],
 "metadata": {
  "kernelspec": {
   "display_name": "R",
   "language": "R",
   "name": "ir"
  },
  "language_info": {
   "codemirror_mode": "r",
   "file_extension": ".r",
   "mimetype": "text/x-r-source",
   "name": "R",
   "pygments_lexer": "r",
   "version": "4.2.1"
  }
 },
 "nbformat": 4,
 "nbformat_minor": 5
}
