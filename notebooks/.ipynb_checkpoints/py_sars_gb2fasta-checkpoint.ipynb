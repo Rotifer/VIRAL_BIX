{
 "cells": [
  {
   "cell_type": "code",
   "execution_count": 5,
   "id": "4b71a3ab-2c6d-4fb8-865f-7f4173392db3",
   "metadata": {},
   "outputs": [
    {
     "name": "stdout",
     "output_type": "stream",
     "text": [
      ">AY278489.2 SARS coronavirus GD01, complete genome\n",
      "TACCCAGGAAAAGCCAACCAACCTCGATCTCTTGTAGATCTGTTCTCTAAACGAACTTTA\n",
      "AAATCTGTGTAGCTGTCGCTCGGCTGCATGCCTAGTGCACCTACGCAGTATAAACAATAA\n",
      "TAAATTTTACTGTCGTTGACAAGAAACG\n",
      ">AY394997.1 SARS coronavirus ZS-A, complete genome\n",
      "CTACCCAGGAAAAGCCAACCAACCTCGATCTCTTGTAGATCTGTTCTCTAAACGAACTTT\n",
      "AAAATCTGTGTAGCTGTCGCTCGGCTGCATGCCTAGTGCACCTACGCAGTATAAACAATA\n",
      "ATAAATTTTACTGTCGTTGACAAGAAAC\n",
      ">AY395004.1 SARS coronavirus HZS2-Bb, partial genome\n",
      "TTGTAGATCTGTTCTCTAAACGAACTTTAAAATCTGTGTAGCTGTCGCTCGGCTGCATGC\n",
      "CTAGTGCACCTACGCAGTATAAACAATAATAAATTTTACTGTCGTTGACAAGAAACGAGT\n",
      "AACTCGTCCCTCTTCTGCAGACTGCT\n",
      ">AY394978.1 SARS coronavirus GZ-B, complete genome\n",
      "TTTAAAATCTGTGTAGCTGTCGCTCGGCTGCATGCCTAGTGCACCTACGCAGTATAAACA\n",
      "ATAATAAATTTTACTGTCGTTGACAAGAAACGAGTAACTCGTCCCTCTTCTGCAGACTGC\n",
      "TTACGGTTTCGTCCGTGTTGCAGTCGAT\n",
      ">AY394983.1 SARS coronavirus HSZ2-A, complete genome\n",
      "GATCTGTTCTCTAAACGAACTTTAAAATCTGTGTAGCTGTCGCTCGGCTGCATGCCTAGT\n",
      "GCACCTACGCAGTATAAACAATAATAAATTTTACTGTCGTTGACAAGAAACGAGTAACTC\n",
      "GTCCCTCTTCTGCAGACTGCTTACGG\n",
      ">AY304495.1 SARS coronavirus GZ50, complete genome\n",
      "CTACCCAGGAAAAGCCAACCAACCTCGATCTCTTGTAGATCTGTTCTCTAAACGAACTTT\n",
      "AAAATCTGTGTAGCTGTCGCTCGGCTGCATGCCTAGTGCACCTACGCAGTATAAACAATA\n",
      "ATAAATTTTACTGTCGTTGACAAGAAAC\n",
      ">AY278554.2 SARS coronavirus CUHK-W1, complete genome\n",
      "CTACCCAGGAAAAGCCAACCAACCTCGATCTCTTGTAGATCTGTTCTCTAAACGAACTTT\n",
      "AAAATCTGTGTAGCTGTCGCTCGGCTGCATGCCTAGTGCACCTACGCAGTATAAACAATA\n",
      "ATAAATTTTACTGTCGTTGACAAGA\n",
      ">AY278741.1 SARS coronavirus Urbani, complete genome\n",
      "ATATTAGGTTTTTACCTACCCAGGAAAAGCCAACCAACCTCGATCTCTTGTAGATCTGTT\n",
      "CTCTAAACGAACTTTAAAATCTGTGTAGCTGTCGCTCGGCTGCATGCCTAGTGCACCTAC\n",
      "GCAGTATAAACAATAATAAATTTTAC\n",
      ">AY291451.1 SARS coronavirus TW1, complete genome\n",
      "ATATTAGGTTTTTACCTACCCAGGAAAAGCCAACCAACCTCGATCTCTTGTAGATCTGTT\n",
      "CTCTAAACGAACTTTAAAATCTGTGTAGCTGTCGCTCGGCTGCATGCCTAGTGCACCTAC\n",
      "GCAGTATAAACAATAATAAATTTTACTGT\n",
      ">AY283794.1 SARS coronavirus Sin2500, complete genome\n",
      "TACCCAGGAAAAGCCAACCAACCTCGATCTCTTGTAGATCTGTTCTCTAAACGAACTTTA\n",
      "AAATCTGTGTAGCTGTCGCTCGGCTGCATGCCTAGTGCACCTACGCAGTATAAACAATAA\n",
      "TAAATTTTACTGTCGTTGACAAGAA\n",
      ">AY274119.3 SARS coronavirus Tor2, complete genome\n",
      "ATATTAGGTTTTTACCTACCCAGGAAAAGCCAACCAACCTCGATCTCTTGTAGATCTGTT\n",
      "CTCTAAACGAACTTTAAAATCTGTGTAGCTGTCGCTCGGCTGCATGCCTAGTGCACCTAC\n",
      "GCAGTATAAACAATAATAAATTTTACTG\n",
      ">AY345986.1 SARS coronavirus CUHK-AG01, complete genome\n",
      "CTACCCAGGAAAAGCCAACCAACCTCGATCTCTTGTAGATCTGTTCTCTAAACGAACTTT\n",
      "AAAATCTGTGTAGCTGTCGCTCGGCTGCATGCCTAGTGCACCTACGCAGTATAAACAATA\n",
      "ATAAATTTTACTGTCGTTGACAA\n",
      ">AY394999.1 SARS coronavirus LC2, complete genome\n",
      "CTACCCAGGAAAAGCCAACCAACCTCGATCTCTTGTAGATCTGTTCTCTAAACGAACTTT\n",
      "AAAATCTGTGTAGCTGTCGCTCGGCTGCATGCCTAGTGCACCTACGCAGTATAAACAATA\n",
      "ATAAATTTTACTGTCGTTGACAAGAAACG\n"
     ]
    }
   ],
   "source": [
    "from Bio import SeqIO\n",
    "import os\n",
    "\n",
    "home_dir = os.environ[\"HOME\"]\n",
    "gb_file = os.path.join(home_dir, \"VIRAL_BIX\", \"data\", \"sars_genomes.gb\")\n",
    "for gb_record in SeqIO.parse(open(gb_file,\"r\"), \"genbank\"):\n",
    "    # now do something with the record\n",
    "    #print(\"Name %s, %i features\" % (gb_record.name, len(gb_record.features)))\n",
    "    #print(repr(gb_record.seq))\n",
    "    fasta_format = gb_record.format(\"fasta\")\n",
    "    print(fasta_format[0:201])"
   ]
  },
  {
   "cell_type": "code",
   "execution_count": null,
   "id": "771c0cd8-793c-4eed-b2f2-5ee60dda8777",
   "metadata": {},
   "outputs": [],
   "source": []
  }
 ],
 "metadata": {
  "kernelspec": {
   "display_name": "viralbix",
   "language": "python",
   "name": "viralbix"
  },
  "language_info": {
   "codemirror_mode": {
    "name": "ipython",
    "version": 3
   },
   "file_extension": ".py",
   "mimetype": "text/x-python",
   "name": "python",
   "nbconvert_exporter": "python",
   "pygments_lexer": "ipython3",
   "version": "3.9.7"
  }
 },
 "nbformat": 4,
 "nbformat_minor": 5
}
