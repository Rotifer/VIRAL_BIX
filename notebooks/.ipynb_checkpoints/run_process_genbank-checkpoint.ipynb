{
 "cells": [
  {
   "cell_type": "markdown",
   "id": "e64f5dbf-fe35-429e-a528-b9265005790a",
   "metadata": {},
   "source": [
    "# Get viral sequences\n",
    "\n",
    "Download Genbank viral sequences from NCBI using Biopython"
   ]
  },
  {
   "cell_type": "code",
   "execution_count": null,
   "id": "26b0aacb-1253-4de8-9a71-ffce94183c2a",
   "metadata": {},
   "outputs": [],
   "source": [
    "import os\n",
    "from process_genbank import GenBankRecord, GenBankFeature\n",
    "home_dir = os.environ[\"HOME\"]\n",
    "gb_filepath = os.path.join(home_dir, \"VIRAL_BIX\", \"data\", \"NC_045512_SarsCov2_refseq.gb\")\n",
    "gb_record = GenBankRecord(gb_filepath)"
   ]
  },
  {
   "cell_type": "code",
   "execution_count": null,
   "id": "0f0b2bb7-0754-456c-b888-1a7df71ee545",
   "metadata": {},
   "outputs": [],
   "source": [
    "sequence = gb_record.get_sequence()"
   ]
  },
  {
   "cell_type": "code",
   "execution_count": null,
   "id": "f7a4bec7-3999-4153-b24b-ac72137e03ff",
   "metadata": {},
   "outputs": [],
   "source": [
    "print(len(sequence))"
   ]
  },
  {
   "cell_type": "code",
   "execution_count": null,
   "id": "18ab7aa8-03e9-44a0-bcf0-26981dab50b1",
   "metadata": {},
   "outputs": [],
   "source": [
    "gb_record.get_first_accession()"
   ]
  },
  {
   "cell_type": "code",
   "execution_count": null,
   "id": "62729d2b-16a9-4083-a227-a8c7923afe72",
   "metadata": {},
   "outputs": [],
   "source": [
    "gb_record.get_id()"
   ]
  },
  {
   "cell_type": "code",
   "execution_count": null,
   "id": "10ae98a1-c566-4737-854e-50ab86ccb984",
   "metadata": {},
   "outputs": [],
   "source": [
    "gb_record.get_annotation_map()"
   ]
  },
  {
   "cell_type": "code",
   "execution_count": null,
   "id": "451c16b1-f58e-4247-a0ca-923399cd11af",
   "metadata": {},
   "outputs": [],
   "source": [
    "first_gene_feature = gb_record.get_features_map()[\"gene\"][0]"
   ]
  },
  {
   "cell_type": "code",
   "execution_count": null,
   "id": "3c9585d7-3a29-476d-9025-f1eeaa8ba9ce",
   "metadata": {},
   "outputs": [],
   "source": [
    "gf = GenBankFeature(first_gene_feature, sequence)"
   ]
  },
  {
   "cell_type": "code",
   "execution_count": null,
   "id": "8cfd1120-3aed-4f3a-8dd5-a8b99b579610",
   "metadata": {},
   "outputs": [],
   "source": [
    "gf.get_feature_map()"
   ]
  },
  {
   "cell_type": "code",
   "execution_count": null,
   "id": "aa0097ec-d519-4418-aa5f-33d69306bed8",
   "metadata": {},
   "outputs": [],
   "source": []
  }
 ],
 "metadata": {
  "kernelspec": {
   "display_name": "viralbix",
   "language": "python",
   "name": "viralbix"
  },
  "language_info": {
   "codemirror_mode": {
    "name": "ipython",
    "version": 3
   },
   "file_extension": ".py",
   "mimetype": "text/x-python",
   "name": "python",
   "nbconvert_exporter": "python",
   "pygments_lexer": "ipython3",
   "version": "3.9.7"
  }
 },
 "nbformat": 4,
 "nbformat_minor": 5
}
